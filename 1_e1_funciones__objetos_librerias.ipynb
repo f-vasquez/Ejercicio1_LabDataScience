{
  "nbformat": 4,
  "nbformat_minor": 0,
  "metadata": {
    "kernelspec": {
      "display_name": "Python 3",
      "language": "python",
      "name": "python3"
    },
    "language_info": {
      "codemirror_mode": {
        "name": "ipython",
        "version": 3
      },
      "file_extension": ".py",
      "mimetype": "text/x-python",
      "name": "python",
      "nbconvert_exporter": "python",
      "pygments_lexer": "ipython3",
      "version": "3.7.6"
    },
    "nbTranslate": {
      "displayLangs": [
        "es",
        "en"
      ],
      "hotkey": "alt-t",
      "langInMainMenu": true,
      "sourceLang": "en",
      "targetLang": "es",
      "useGoogleTranslate": true
    },
    "toc": {
      "base_numbering": 1,
      "nav_menu": {},
      "number_sections": true,
      "sideBar": true,
      "skip_h1_title": false,
      "title_cell": "Table of Contents",
      "title_sidebar": "Contents",
      "toc_cell": false,
      "toc_position": {},
      "toc_section_display": true,
      "toc_window_display": true
    },
    "colab": {
      "name": "1_e1_funciones__objetos_librerias.ipynb",
      "provenance": [],
      "collapsed_sections": []
    }
  },
  "cells": [
    {
      "cell_type": "markdown",
      "metadata": {
        "id": "cXXWaQPGWBJs",
        "colab_type": "text"
      },
      "source": [
        "# MA6202: Laboratorio de Ciencia de Datos\n",
        "\n",
        "**Profesor: Nicolás Caro**\n",
        "\n",
        "**24/04/2020 - E1 S4**\n",
        "\n",
        "\n",
        "**Integrantes del grupo**:  Benjamín Barrientos, Francisco Vásquez y Kurt Walsen"
      ]
    },
    {
      "cell_type": "markdown",
      "metadata": {
        "id": "U2oYOVTlWBJt",
        "colab_type": "text"
      },
      "source": [
        "## Ejercicio 1\n",
        "\n",
        "La estructura de esta evaluación consta de 7 preguntas. Se evaluá desde la pregunta 1 a la 6, la pregunta 7 es opcional. Tenga en cuenta que un problema de programación puede (por lo general) resolverse de múltiples maneras. Sin embargo, para optar al puntaje completo en cada pregunta, siga las indicaciones de los enunciados y utilice solo herramientas vistas en el curso. \n",
        "\n",
        "En lo que sigue de la evaluación, **no** estará permitido usar librerías ni módulos diferentes a los declarados en la siguiente celda. "
      ]
    },
    {
      "cell_type": "code",
      "metadata": {
        "ExecuteTime": {
          "end_time": "2020-04-24T22:32:57.221294Z",
          "start_time": "2020-04-24T22:32:56.046023Z"
        },
        "id": "RhMPUsKlWBJu",
        "colab_type": "code",
        "colab": {}
      },
      "source": [
        "'''Celda de modulos obligatorios.'''\n",
        "\n",
        "# Librerias de manejo de consultas\n",
        "import requests\n",
        "import json\n",
        "\n",
        "# Stack cientifico\n",
        "import numpy as np\n",
        "from scipy import stats\n",
        "\n",
        "# Librerias de manejo de tiemop\n",
        "from datetime import date, datetime\n",
        "from time import sleep\n",
        "\n",
        "# Manejo de funciones\n",
        "from functools import singledispatch, update_wrapper"
      ],
      "execution_count": 0,
      "outputs": []
    },
    {
      "cell_type": "markdown",
      "metadata": {
        "id": "Uz_vsSnkWBJz",
        "colab_type": "text"
      },
      "source": [
        "El objetivo global de esta evaluación es medir conocimientos sobre el manejo de objetos, decoradores y librerías. \n",
        "De manera simultanea, se evaluará el manejo del sistema *Git*. Por tal motivo, para este ejercicio se exige:\n",
        "\n",
        "1. Generar un repositorio de control de versiones *Git* donde se trabajará con este archivo.\n",
        "2. Por lo menos un commit por pregunta. \n",
        "3. Por lo menos un merge. \n",
        "\n",
        "El formato de entrega de esta evaluación es un archivo **.zip** con el repositorio correspondiente a este trabajo. "
      ]
    },
    {
      "cell_type": "markdown",
      "metadata": {
        "id": "f3t9mr2FWBJ0",
        "colab_type": "text"
      },
      "source": [
        "### Primera Parte: Construcción de consultas\n",
        "\n",
        "Una interfaz de programación de aplicaciones, API por sus siglas en ingles, es un conjunto de rutinas, protocolos y herramientas para crear software. Básicamente, su función es especificar cómo interactúan los componentes de una aplicación. \n",
        "\n",
        "Existe una variedad de API's con las que se puede acceder a bases de datos, estas funcionan como una capa de software intermedia, que acepta peticiones de usuarios (consultas) y entrega información empaquetada en alguna estructura estándar (respuestas). \n",
        "\n",
        "Una API en particular es la de [United States Geological Survey (USGS)](https://earthquake.usgs.gov/fdsnws/event/1/). Esta API permite acceder a bases de datos contenedoras de información sobre movimientos telúricos en todo el mundo. \n",
        "\n",
        "El objetivo de esta primera parte, es conectarse a la API de _USGS_ para recolectar la información de tales eventos entre los años 1920 y 2020. \n",
        "\n",
        "Para comenzar preste atención al siguiente *decorador*."
      ]
    },
    {
      "cell_type": "code",
      "metadata": {
        "ExecuteTime": {
          "end_time": "2020-04-24T22:32:57.238286Z",
          "start_time": "2020-04-24T22:32:57.225293Z"
        },
        "id": "NtamPJyqWBJ0",
        "colab_type": "code",
        "colab": {}
      },
      "source": [
        "def singledispatchmeth(func):\n",
        "    ''' Decorador que extiende a functools.singledispatch.\n",
        "    \n",
        "    Se puede utilizar sobre un metodo dentro de la definicion de una clase \n",
        "    para posteriormente registrar comportamientos según tipo de dato, dentro \n",
        "    de la misma clase.\n",
        "    \n",
        "    Args: \n",
        "    \n",
        "        func: function, class method\n",
        "             Metodo a decorar\n",
        "    \n",
        "    Returns:\n",
        "    \n",
        "        class method\n",
        "            Retorna un metodo del tipo singledispatch.\n",
        "            \n",
        "    '''\n",
        "    \n",
        "    despachador = singledispatch(func)\n",
        "\n",
        "    def wrapper(*args, **kwargs):\n",
        "        return despachador.dispatch(args[1].__class__)(*args, **kwargs)\n",
        "\n",
        "    wrapper.register = despachador.register\n",
        "    wrapper.registry = despachador.registry\n",
        "    update_wrapper(wrapper, func)\n",
        "    \n",
        "    return wrapper"
      ],
      "execution_count": 0,
      "outputs": []
    },
    {
      "cell_type": "markdown",
      "metadata": {
        "id": "EfatNHZ-WBJ4",
        "colab_type": "text"
      },
      "source": [
        "Como podrá ver, la función anterior permite **replicar exactamente** el comportamiento del decorador `@functools.singledispatch` **sobre métodos** dentro de la definición de una clase. \n",
        "\n",
        "\n",
        "### Pregunta 1 \n",
        "\n",
        "Se busca hacer consultas temporales a la API de USGS, por este motivo es necesario que se extienda la clase `date` de la librería `datetime`. Un objeto tipo `date` se inicializa con 3 argumentos enteros del tipo `año`, `mes`, `dia` (en ese orden).\n",
        "\n",
        "1. Inicialice un objeto tipo `date` para la fecha *01/01/1920*. Muestre en pantalla los atributos `.year`, `.month` y `.day`.\n",
        "\n",
        "2. Extienda la clase `date` a una clase denotada por `DateConSuma`. Esta nueva clase debe sobrecargar el operador `+`, de manera tal, que si `data_s` es un objeto tipo `DateConSuma` y `tup = (a,b,c)` es una tupla de 3 datos tipo `int`, entonces la operación `data_s + tup` retorna un objeto tipo `DateConSuma` con atributos `.year`, `.month` y `.day` validos, dados por `data_s.year + a`,  `data_s.month + b`, `data_s.day + c`. Para esto:\n",
        "    1. Decore adecuadamente el método a sobrecargar, haciendo referencia a la clase base de `DateConSuma` por medio de `super()`.\n",
        "    2. Registre el comportamiento de dicho método decorado para que opere con tuplas, levante una excepción si la tupla a operar no tiene largo 3 o si alguno de sus elementos no es del tipo `int`.\n",
        "    \n",
        "**Obs**: El método resultante no es conmutativo, es decir, no espera que `tup + data_s` esté definido. "
      ]
    },
    {
      "cell_type": "code",
      "metadata": {
        "ExecuteTime": {
          "end_time": "2020-04-24T22:32:57.383196Z",
          "start_time": "2020-04-24T22:32:57.245280Z"
        },
        "id": "qrVRA63DWBJ5",
        "colab_type": "code",
        "outputId": "bc3b8e11-63bc-4cf5-d64b-e1e0f6d896bf",
        "colab": {
          "base_uri": "https://localhost:8080/",
          "height": 34
        }
      },
      "source": [
        "# Respuesta P1\n",
        "fecha = date(1920,1,1)\n",
        "print(fecha.year, fecha.month, fecha.day)\n",
        "\n",
        "class DateConSuma(date):\n",
        "    '''\n",
        "    documentacion\n",
        "    '''\n",
        "        \n",
        "    @singledispatchmeth    \n",
        "    def __add__(self, fecha):\n",
        "        if not isinstance(fecha,DateConSuma):\n",
        "            raise TypeError('Objeto entregado no corresponde a DateConSuma')\n",
        "        \n",
        "        a, b, c = fecha.year,fecha.month,fecha.day\n",
        "        a_date=DateConSuma(super().year + a, super().month + b, super().day + c)\n",
        "        return a_date\n",
        "    \n",
        "    @__add__.register(tuple)\n",
        "    def _(self,tupla): \n",
        "        '''\n",
        "        Metodo __add__ opera con tuplas\n",
        "        '''\n",
        "        if len(tupla)!=3:\n",
        "            raise ValueError('Tupla entregada no tiene largo 3')\n",
        "        \n",
        "        a,b,c= tupla\n",
        "        \n",
        "        if type(a) != int or type(b) != int or type(c) != int:\n",
        "            raise TypeError('Uno o más elementos de la tupla no corresponden a int')\n",
        "        \n",
        "        a_date=DateConSuma(self.year + a,self.month + b,self.day + c)\n",
        "\n",
        "        return a_date"
      ],
      "execution_count": 3,
      "outputs": [
        {
          "output_type": "stream",
          "text": [
            "1920 1 1\n"
          ],
          "name": "stdout"
        }
      ]
    },
    {
      "cell_type": "code",
      "metadata": {
        "ExecuteTime": {
          "end_time": "2020-04-24T22:32:57.508119Z",
          "start_time": "2020-04-24T22:32:57.387192Z"
        },
        "id": "99CUxv8pWBJ9",
        "colab_type": "code",
        "outputId": "d36f6ff0-974d-4261-8c79-c503e929e2e7",
        "colab": {
          "base_uri": "https://localhost:8080/",
          "height": 85
        }
      },
      "source": [
        "#Ejemplo:\n",
        "\n",
        "print('Opera entre objetos DateConSuma:')\n",
        "fecha_1=DateConSuma(1920,1,1)\n",
        "fecha_2=DateConSuma(1925,1,1)\n",
        "print('{} + {} = {}'.format(fecha_1,fecha_2,fecha_1+fecha_2))\n",
        "\n",
        "print('Opera entre objeto DateConSuma y tuple:')\n",
        "tupla = (1,1,1)\n",
        "print('{} + {} = {}'.format(fecha_1,tupla,fecha_1+tupla))"
      ],
      "execution_count": 4,
      "outputs": [
        {
          "output_type": "stream",
          "text": [
            "Opera entre objetos DateConSuma:\n",
            "1920-01-01 + 1925-01-01 = 3845-02-02\n",
            "Opera entre objeto DateConSuma y tuple:\n",
            "1920-01-01 + (1, 1, 1) = 1921-02-02\n"
          ],
          "name": "stdout"
        }
      ]
    },
    {
      "cell_type": "markdown",
      "metadata": {
        "id": "TlSNoW9SWBKC",
        "colab_type": "text"
      },
      "source": [
        "### Pregunta 2\n",
        "\n",
        "Defina la clase `IteratorFechas` que retorne objetos de la clase `DateConSuma` espaciados cada $n$ años comenzando en 1920-01-01 y finalizando en 2020-01-01. Para ello:\n",
        "\n",
        "1. Defina el atributo estático y privado `desde_fecha`, este se asocia a un objeto `DateConSuma` que representa la fecha 1920-01-01. \n",
        "    \n",
        "2.  Defina el atributo estático y privado `hasta_fecha` este se asocia a un objeto `DateConSuma` que representa la fecha 2020-01-01. \n",
        "    \n",
        "3. El constructor debe recibir el parámetro `n`, cuyo valor se debe almacenar en el atributo `espaciado`.\n",
        "    \n",
        "4. Defina el método mágico `__iter__` donde sólo se retorne el objeto instanciado.\n",
        "\n",
        "5. Defina el método mágico `__next__`. Para esto, si `N` representa el valor del atributo `espaciado`, entonces:\n",
        "    \n",
        "    1. Si `desde_fecha` + `(N,0,0)` (sobrecarga de `+`) representa una fecha anterior a la de `hasta_fecha`, entonces se debe retornar una tupla con el valor de `desde_fecha` en su primera componente y de `desde_fecha` + `(N,0,0)` en su segunda componente. De igual manera, se requiere que el método `__next__` actualice el valor del atributo `desde_fecha` reasignandole el valor `desde_fecha` + `(N,0,0)`. *Hint*: Observe que `DateConSuma` hereda de `date`, por lo tanto las comparaciones del tipo `a < b` son validas para esta nueva clase. \n",
        "    \n",
        "    2.  Si lo anterior no se cumple, entonces levante una excepción del tipo  `StopIteration` con el mensaje, `'fecha final excedida'`.\n",
        "    \n",
        "6. Inicialice el objeto `iter_fechas` de la clase `IteratorFechas` con un espaciado de 5 años. Mediante un ciclo `for` itere sobre `iter_fechas` e imprima sobre las variables iteradoras, de manera tal, que se logre un output del tipo:\n",
        "\n",
        "```\n",
        "        Desde : 1920-01-01 Hasta:  1925-01-01\n",
        "        Desde : 1925-01-01 Hasta:  1930-01-01\n",
        "            ...\n",
        "        Desde : 2015-01-01 Hasta:  2020-01-01\n",
        "```"
      ]
    },
    {
      "cell_type": "code",
      "metadata": {
        "ExecuteTime": {
          "end_time": "2020-04-24T22:32:57.599060Z",
          "start_time": "2020-04-24T22:32:57.511114Z"
        },
        "id": "gZJTAfLNWBKC",
        "colab_type": "code",
        "colab": {}
      },
      "source": [
        "# Respuesta P2\n",
        "class IteratorFechas:\n",
        "    '''\n",
        "    documentacion\n",
        "    '''\n",
        "    __desde_fecha=DateConSuma(1920,1,1)\n",
        "    __hasta_fecha=DateConSuma(2020,1,1)\n",
        "    \n",
        "    def __init__(self,n):\n",
        "        self.espaciado=n\n",
        "    \n",
        "    def __iter__(self):\n",
        "        return self\n",
        "        \n",
        "    def __next__(self):\n",
        "        N=self.espaciado\n",
        "        fecha_sgte=self.__desde_fecha+(N,0,0)\n",
        "        if fecha_sgte <= self.__hasta_fecha:\n",
        "            fecha_inicio=self.__desde_fecha\n",
        "            self.__desde_fecha+=(N,0,0)\n",
        "            return (fecha_inicio,fecha_sgte)\n",
        "        \n",
        "        else:    \n",
        "            raise StopIteration('Fecha final excedida')\n",
        "        \n",
        "            "
      ],
      "execution_count": 0,
      "outputs": []
    },
    {
      "cell_type": "code",
      "metadata": {
        "ExecuteTime": {
          "end_time": "2020-04-24T22:32:57.758962Z",
          "start_time": "2020-04-24T22:32:57.604058Z"
        },
        "id": "DgIgBvzTWBKF",
        "colab_type": "code",
        "outputId": "68cc124d-0c71-4f30-d6d5-dbacf3dfed6f",
        "colab": {
          "base_uri": "https://localhost:8080/",
          "height": 357
        }
      },
      "source": [
        "iter_fechas=IteratorFechas(5)\n",
        "for i,j in iter_fechas:\n",
        "    print('Desde: {} Hasta: {}'.format(i,j))"
      ],
      "execution_count": 6,
      "outputs": [
        {
          "output_type": "stream",
          "text": [
            "Desde: 1920-01-01 Hasta: 1925-01-01\n",
            "Desde: 1925-01-01 Hasta: 1930-01-01\n",
            "Desde: 1930-01-01 Hasta: 1935-01-01\n",
            "Desde: 1935-01-01 Hasta: 1940-01-01\n",
            "Desde: 1940-01-01 Hasta: 1945-01-01\n",
            "Desde: 1945-01-01 Hasta: 1950-01-01\n",
            "Desde: 1950-01-01 Hasta: 1955-01-01\n",
            "Desde: 1955-01-01 Hasta: 1960-01-01\n",
            "Desde: 1960-01-01 Hasta: 1965-01-01\n",
            "Desde: 1965-01-01 Hasta: 1970-01-01\n",
            "Desde: 1970-01-01 Hasta: 1975-01-01\n",
            "Desde: 1975-01-01 Hasta: 1980-01-01\n",
            "Desde: 1980-01-01 Hasta: 1985-01-01\n",
            "Desde: 1985-01-01 Hasta: 1990-01-01\n",
            "Desde: 1990-01-01 Hasta: 1995-01-01\n",
            "Desde: 1995-01-01 Hasta: 2000-01-01\n",
            "Desde: 2000-01-01 Hasta: 2005-01-01\n",
            "Desde: 2005-01-01 Hasta: 2010-01-01\n",
            "Desde: 2010-01-01 Hasta: 2015-01-01\n",
            "Desde: 2015-01-01 Hasta: 2020-01-01\n"
          ],
          "name": "stdout"
        }
      ]
    },
    {
      "cell_type": "markdown",
      "metadata": {
        "id": "BXQ_nYK1WBKJ",
        "colab_type": "text"
      },
      "source": [
        "La API USGS utiliza el protocolo http para recibir consultas y entregar datos de respuesta. Por lo anterior, para hacer consultas a la API, se deben producir direcciones URL siguiendo un formato especifico, en este caso el formato de consulta sigue el patrón:\n",
        "\n",
        "        https://earthquake.usgs.gov/fdsnws/event/1/ `Metodo?Parametros`\n",
        "    \n",
        "En el campo `Metodo`  se utiliza `query?format=geojson` lo que implica que la respuesta entregada por la API vendrá en formato `.json`, es decir _JavaScript Object Notation_. Para efectos prácticos, este es un formato que permite almacenar información mediante una escritura análoga a los `dict` de Python. Su manejo se hace con la librería `json`. \n",
        "\n",
        "En cuanto al campo `Parametros`, estos están definidos en la documentación de la [API](https://earthquake.usgs.gov/fdsnws/event/1/) y permiten definir la información a consultar. Los parámetros que serán útiles para el ejercicio son:\n",
        "\n",
        "* **Geográficos**: que servirán para definir la zona geográfica de interés mediante un rectangulo de latitudes y longitudes. Estos son: `minlatitude`, `minlongitude`, `maxlatitude` y `maxlongitude`.\n",
        "\n",
        "* **Temporales**: que servirán para definir el periodo de consulta. Se trata de: `starttime` y `endtime`.\n",
        "\n",
        "Por lo anterior, si se desea consultar por los eventos ocurridos entre el primero de enero de 1920 y el primero de enero de 1925 la consulta sería de la forma:\n",
        "\n",
        "[https://earthquake.usgs.gov/fdsnws/event/1/query?format=geojson&starttime=1920-01-01&endtime=1925-01-01&minlatitude=-56.72500008&minlongitude=-80&maxlatitude=-17.49839982&maxlongitude=-66.07534742](https://earthquake.usgs.gov/fdsnws/event/1/query?format=geojson&starttime=1920-01-01&endtime=1925-01-01&minlatitude=-56.72500008&minlongitude=-80&maxlatitude=-17.49839982&maxlongitude=-66.07534742)\n",
        "\n",
        "Note que los parámetros geográficos utilizados son:\n",
        "\n",
        "```python\n",
        "'minlatitude': -56.72500008, \n",
        "'minlongitude': -80,\n",
        "'maxlatitude': -17.49839982,\n",
        "'maxlongitude': -66.07534742,\n",
        "``` "
      ]
    },
    {
      "cell_type": "markdown",
      "metadata": {
        "id": "83qhZT8yWBKL",
        "colab_type": "text"
      },
      "source": [
        "### Pregunta 3\n",
        "\n",
        "Dado que la API entrega un máximo de 20.000 respuestas por consulta y que Chile es un país con mucha actividad sísmica, es necesario realizar múltiples consultas para capturar **todos** los movimientos telúricos en cuestión. \n",
        "\n",
        "Para efectos de este ejercicio, las consultas a la API se mantendrán en una zona geográfica fija, es decir, los parámetros geográficos no varían. Se busca entonces, obtener información variando unicamente las parámetros temporales."
      ]
    },
    {
      "cell_type": "markdown",
      "metadata": {
        "id": "XA4OaejEWBKM",
        "colab_type": "text"
      },
      "source": [
        "1. Para la clase `ConstructorConsultasUSGS` defina el método `construye_consulta` que usa los atributos privados `fixed_loc` y `base_url`. Además, tal método debe recibir los argumentos `desde_fecha` y `hasta_fecha` para retornar una consulta en string con el formato admitido por la API.  \n",
        "\n",
        "**Ejemplo**\n",
        "\n",
        "Se espera que el método:\n",
        "\n",
        "```python\n",
        "date_1 = DateConSuma(1920, 1, 1)\n",
        "date_2 = DateConSuma(1925, 1, 1)\n",
        "\n",
        "ConstructorConsultasUSGS.construye_consulta(date_1, date_2)\n",
        "```\n",
        "\n",
        "Retorne el string \n",
        "\n",
        "```\n",
        "'https://earthquake.usgs.gov/fdsnws/event/1/query?format=geojson&starttime=1920-01-01&endtime=1925-01-01&minlatitude=-56.72500008&minlongitude=-80&maxlatitude=-17.49839982&maxlongitude=-66.07534742'\n",
        "```"
      ]
    },
    {
      "cell_type": "code",
      "metadata": {
        "ExecuteTime": {
          "end_time": "2020-04-24T22:32:57.957839Z",
          "start_time": "2020-04-24T22:32:57.763959Z"
        },
        "id": "H1s6QLqcWBKM",
        "colab_type": "code",
        "colab": {}
      },
      "source": [
        "class ConstructorConsultasUSGS:\n",
        "    '''Clase constructora de consultas a la API USGS.'''\n",
        "\n",
        "    # Atributos fijos de consulta\n",
        "    __fixed_loc = {\n",
        "        'minlatitude': -56.72500008,\n",
        "        'minlongitude': -80,\n",
        "        'maxlatitude': -17.49839982,\n",
        "        'maxlongitude': -66.07534742,\n",
        "    }\n",
        "    \n",
        "    __base_url = \"https://earthquake.usgs.gov/fdsnws/event/1/query?format=geojson\"\n",
        "\n",
        "    def construye_consulta(self, desde_fecha, hasta_fecha):\n",
        "        query='{}&starttime={}&endtime={}'.format(self.__base_url,desde_fecha,hasta_fecha)\n",
        "        for key in self.__fixed_loc:\n",
        "            query= '{}&{}={}'.format(query,key,self.__fixed_loc[key])\n",
        "        return query"
      ],
      "execution_count": 0,
      "outputs": []
    },
    {
      "cell_type": "code",
      "metadata": {
        "ExecuteTime": {
          "end_time": "2020-04-24T22:32:58.085759Z",
          "start_time": "2020-04-24T22:32:57.962835Z"
        },
        "id": "snpGK0dPWBKV",
        "colab_type": "code",
        "outputId": "87486c58-3062-442c-e14e-eb4896b733e0",
        "colab": {
          "base_uri": "https://localhost:8080/",
          "height": 54
        }
      },
      "source": [
        "desde_fecha=DateConSuma(1920,1,1)\n",
        "hasta_fecha=DateConSuma(1925,1,1)\n",
        "print(ConstructorConsultasUSGS().construye_consulta(desde_fecha,hasta_fecha))"
      ],
      "execution_count": 8,
      "outputs": [
        {
          "output_type": "stream",
          "text": [
            "https://earthquake.usgs.gov/fdsnws/event/1/query?format=geojson&starttime=1920-01-01&endtime=1925-01-01&minlatitude=-56.72500008&minlongitude=-80&maxlatitude=-17.49839982&maxlongitude=-66.07534742\n"
          ],
          "name": "stdout"
        }
      ]
    },
    {
      "cell_type": "markdown",
      "metadata": {
        "id": "u9uv-khQWBKb",
        "colab_type": "text"
      },
      "source": [
        "2. Cree la clase `GeneradorConsulta` que herede de las clases `ConstructorConsultasUSGS` e `IteratorFechas`. Esta nueva clase es un *iterator* que en cada paso entrega una consulta a la API. Para ello haga _overridding_ (o anulación) de los metodos:\n",
        "\n",
        "    1. `__init__`: haga uso de la función `super` en dos ocasiones. *Hint*: Recuerde el MRO *como cadena* y su interacción con `super`, incialice clase base.\n",
        "    2. `__next__`: haga uso de la función `super` en dos ocasiones. *Hint*: Debe retornar una url construida con una *tupla* de fechas. \n",
        "    \n",
        "**Ejemplo**\n",
        "\n",
        "Las primera y última iteración deben retornar:\n",
        "\n",
        "```\n",
        "'https://earthquake.usgs.gov/fdsnws/event/1/query?format=geojson&starttime=1920-01-01&endtime=1925-01-01&minlatitude=-56.72500008&minlongitude=-80&maxlatitude=-17.49839982&maxlongitude=-66.07534742'\n",
        "   ...\n",
        "'https://earthquake.usgs.gov/fdsnws/event/1/query?format=geojson&starttime=2015-01-01&endtime=2020-01-01&minlatitude=-56.72500008&minlongitude=-80&maxlatitude=-17.49839982&maxlongitude=-66.07534742'\n",
        "```"
      ]
    },
    {
      "cell_type": "code",
      "metadata": {
        "ExecuteTime": {
          "end_time": "2020-04-24T22:32:58.176705Z",
          "start_time": "2020-04-24T22:32:58.090757Z"
        },
        "id": "8htupq7YWBKc",
        "colab_type": "code",
        "colab": {}
      },
      "source": [
        "# Respuesta P3\n",
        "class GeneradorConsulta(ConstructorConsultasUSGS,IteratorFechas):\n",
        "    '''\n",
        "    documentación\n",
        "    '''\n",
        "    def __init__(self):\n",
        "        a=super().__init__(5)\n",
        "        b=super(ConstructorConsultasUSGS).__init__()\n",
        "        \n",
        "    def __next__(self):\n",
        "        fecha_inicio,fecha_sgte=super().__next__()\n",
        "        query=super().construye_consulta(fecha_inicio,fecha_sgte)\n",
        "        return query\n",
        "    "
      ],
      "execution_count": 0,
      "outputs": []
    },
    {
      "cell_type": "code",
      "metadata": {
        "ExecuteTime": {
          "end_time": "2020-04-24T22:32:58.424608Z",
          "start_time": "2020-04-24T22:32:58.181702Z"
        },
        "id": "A1FktEfeWBKh",
        "colab_type": "code",
        "outputId": "4fdd197d-3cda-44ec-fb86-25f8e3ff56e5",
        "colab": {
          "base_uri": "https://localhost:8080/",
          "height": 394
        }
      },
      "source": [
        "print('Ejemplo de queries entre 1920-01-01 y 1925-01-01')\n",
        "for query in GeneradorConsulta():\n",
        "    print(query)"
      ],
      "execution_count": 10,
      "outputs": [
        {
          "output_type": "stream",
          "text": [
            "Ejemplo de queries entre 1920-01-01 y 1925-01-01\n",
            "https://earthquake.usgs.gov/fdsnws/event/1/query?format=geojson&starttime=1920-01-01&endtime=1925-01-01&minlatitude=-56.72500008&minlongitude=-80&maxlatitude=-17.49839982&maxlongitude=-66.07534742\n",
            "https://earthquake.usgs.gov/fdsnws/event/1/query?format=geojson&starttime=1925-01-01&endtime=1930-01-01&minlatitude=-56.72500008&minlongitude=-80&maxlatitude=-17.49839982&maxlongitude=-66.07534742\n",
            "https://earthquake.usgs.gov/fdsnws/event/1/query?format=geojson&starttime=1930-01-01&endtime=1935-01-01&minlatitude=-56.72500008&minlongitude=-80&maxlatitude=-17.49839982&maxlongitude=-66.07534742\n",
            "https://earthquake.usgs.gov/fdsnws/event/1/query?format=geojson&starttime=1935-01-01&endtime=1940-01-01&minlatitude=-56.72500008&minlongitude=-80&maxlatitude=-17.49839982&maxlongitude=-66.07534742\n",
            "https://earthquake.usgs.gov/fdsnws/event/1/query?format=geojson&starttime=1940-01-01&endtime=1945-01-01&minlatitude=-56.72500008&minlongitude=-80&maxlatitude=-17.49839982&maxlongitude=-66.07534742\n",
            "https://earthquake.usgs.gov/fdsnws/event/1/query?format=geojson&starttime=1945-01-01&endtime=1950-01-01&minlatitude=-56.72500008&minlongitude=-80&maxlatitude=-17.49839982&maxlongitude=-66.07534742\n",
            "https://earthquake.usgs.gov/fdsnws/event/1/query?format=geojson&starttime=1950-01-01&endtime=1955-01-01&minlatitude=-56.72500008&minlongitude=-80&maxlatitude=-17.49839982&maxlongitude=-66.07534742\n",
            "https://earthquake.usgs.gov/fdsnws/event/1/query?format=geojson&starttime=1955-01-01&endtime=1960-01-01&minlatitude=-56.72500008&minlongitude=-80&maxlatitude=-17.49839982&maxlongitude=-66.07534742\n",
            "https://earthquake.usgs.gov/fdsnws/event/1/query?format=geojson&starttime=1960-01-01&endtime=1965-01-01&minlatitude=-56.72500008&minlongitude=-80&maxlatitude=-17.49839982&maxlongitude=-66.07534742\n",
            "https://earthquake.usgs.gov/fdsnws/event/1/query?format=geojson&starttime=1965-01-01&endtime=1970-01-01&minlatitude=-56.72500008&minlongitude=-80&maxlatitude=-17.49839982&maxlongitude=-66.07534742\n",
            "https://earthquake.usgs.gov/fdsnws/event/1/query?format=geojson&starttime=1970-01-01&endtime=1975-01-01&minlatitude=-56.72500008&minlongitude=-80&maxlatitude=-17.49839982&maxlongitude=-66.07534742\n",
            "https://earthquake.usgs.gov/fdsnws/event/1/query?format=geojson&starttime=1975-01-01&endtime=1980-01-01&minlatitude=-56.72500008&minlongitude=-80&maxlatitude=-17.49839982&maxlongitude=-66.07534742\n",
            "https://earthquake.usgs.gov/fdsnws/event/1/query?format=geojson&starttime=1980-01-01&endtime=1985-01-01&minlatitude=-56.72500008&minlongitude=-80&maxlatitude=-17.49839982&maxlongitude=-66.07534742\n",
            "https://earthquake.usgs.gov/fdsnws/event/1/query?format=geojson&starttime=1985-01-01&endtime=1990-01-01&minlatitude=-56.72500008&minlongitude=-80&maxlatitude=-17.49839982&maxlongitude=-66.07534742\n",
            "https://earthquake.usgs.gov/fdsnws/event/1/query?format=geojson&starttime=1990-01-01&endtime=1995-01-01&minlatitude=-56.72500008&minlongitude=-80&maxlatitude=-17.49839982&maxlongitude=-66.07534742\n",
            "https://earthquake.usgs.gov/fdsnws/event/1/query?format=geojson&starttime=1995-01-01&endtime=2000-01-01&minlatitude=-56.72500008&minlongitude=-80&maxlatitude=-17.49839982&maxlongitude=-66.07534742\n",
            "https://earthquake.usgs.gov/fdsnws/event/1/query?format=geojson&starttime=2000-01-01&endtime=2005-01-01&minlatitude=-56.72500008&minlongitude=-80&maxlatitude=-17.49839982&maxlongitude=-66.07534742\n",
            "https://earthquake.usgs.gov/fdsnws/event/1/query?format=geojson&starttime=2005-01-01&endtime=2010-01-01&minlatitude=-56.72500008&minlongitude=-80&maxlatitude=-17.49839982&maxlongitude=-66.07534742\n",
            "https://earthquake.usgs.gov/fdsnws/event/1/query?format=geojson&starttime=2010-01-01&endtime=2015-01-01&minlatitude=-56.72500008&minlongitude=-80&maxlatitude=-17.49839982&maxlongitude=-66.07534742\n",
            "https://earthquake.usgs.gov/fdsnws/event/1/query?format=geojson&starttime=2015-01-01&endtime=2020-01-01&minlatitude=-56.72500008&minlongitude=-80&maxlatitude=-17.49839982&maxlongitude=-66.07534742\n"
          ],
          "name": "stdout"
        }
      ]
    },
    {
      "cell_type": "markdown",
      "metadata": {
        "id": "amFojmONWBKl",
        "colab_type": "text"
      },
      "source": [
        "## Segunda Parte: Recolección\n",
        "\n",
        "Construida la clase que genera las diferentes consultas, se procede a la recolección y analisis. Los datos seran almacendos en un diccionario con la siguiente estructura:\n",
        "\n",
        "```python\n",
        "{\n",
        "    'id': [id_1, id_2, ..., id_n],\n",
        "    'lugar': [lugar_1, lugar_2, ..., lugar_n],\n",
        "    'timestamp': [timestamp_1, timestamp_2, ..., timestamp_n],\n",
        "    'magnitud': [magnitud_1, magnitud_2, ..., magnitud_n],\n",
        "    'longitud': [longitud_1, longitud_2, ..., longitud_n ],\n",
        "    'latitud': [latitud_1, latitud_2, ..., latitud_n]\n",
        "}\n",
        "```"
      ]
    },
    {
      "cell_type": "markdown",
      "metadata": {
        "id": "RSKPP_VWWBKl",
        "colab_type": "text"
      },
      "source": [
        "### Pregunta 4\n",
        "\n",
        "Observe que la estructura anterior corresponde a un diccionario de listas. Se busca facilitar el almacenamiento de la información recolectada mediante una concatenación especial de diccionarios. Con tal fin, extienda la clase `dict`, definiendo la clase `DictDeListas`. Para esta nueva clase, defina el método `extiende_listas`, este método: \n",
        "\n",
        "1. Recibe como argumento otro objeto del tipo `DictDeListas` y levanta una excepción del tipo `ValueError` con el mensaje  `'El argumento debe ser de la clase DictDeListas'` en caso contrario.\n",
        "2. Para cada llave del objeto instanciado, concatena las listas asociadas a esa llave en cada uno de los dos objetos involucrados (el instanciado y el recibido como argumento). Haga uso del método `items` e itere sobre el segundo objeto `DictDeListas`.\n",
        "   \n",
        "**Ejemplo**\n",
        "\n",
        "El código\n",
        "\n",
        "```python\n",
        "# Se generan objetos DictDeListas con llaves en comun \n",
        "dict_ls_1 = DictDeListas({'llave': [1, 2,3]})\n",
        "dict_ls_2 = DictDeListas({'llave': [4, 5, 200]})\n",
        "\n",
        "# Se utiliza el metodo y se muestra su representacion __repr__\n",
        "dict_ls_1.extiende_listas(dict_ls_2)\n",
        "dict_ls_1\n",
        "```\n",
        "\n",
        "Genera el output:\n",
        "\n",
        "```\n",
        "{'llave': [1, 2, 3, 4, 5, 200]}\n",
        "```"
      ]
    },
    {
      "cell_type": "code",
      "metadata": {
        "ExecuteTime": {
          "end_time": "2020-04-24T22:32:58.642499Z",
          "start_time": "2020-04-24T22:32:58.426606Z"
        },
        "id": "IWlps-cNWBKm",
        "colab_type": "code",
        "colab": {}
      },
      "source": [
        "# Respuesta P4\n",
        "class DictDeListas(dict):\n",
        "    '''\n",
        "    Documentacion\n",
        "    '''\n",
        "    def extiende_listas(self, dict_1):\n",
        "        if not isinstance(dict_1, DictDeListas):\n",
        "            raise TypeError('El argumento debe ser de la clase DictDeListas')\n",
        "\n",
        "        for key,lista in dict_1.items():\n",
        "            self[key],dict_1[key] = self[key]+lista, lista+self[key]"
      ],
      "execution_count": 0,
      "outputs": []
    },
    {
      "cell_type": "code",
      "metadata": {
        "ExecuteTime": {
          "end_time": "2020-04-24T22:32:58.771420Z",
          "start_time": "2020-04-24T22:32:58.646497Z"
        },
        "id": "PBR2DCuwWBKp",
        "colab_type": "code",
        "outputId": "7ef5d435-20da-4ebc-d76c-6f5366c5c256",
        "colab": {
          "base_uri": "https://localhost:8080/",
          "height": 34
        }
      },
      "source": [
        "# Se generan objetos DictDeListas con llaves en comun \n",
        "dict_ls_1 = DictDeListas({'llave': [1, 2,3]})\n",
        "dict_ls_2 = DictDeListas({'llave': [4, 5, 200]})\n",
        "\n",
        "# Se utiliza el metodo y se muestra su representacion __repr__\n",
        "dict_ls_1.extiende_listas(dict_ls_2)\n",
        "dict_ls_1"
      ],
      "execution_count": 12,
      "outputs": [
        {
          "output_type": "execute_result",
          "data": {
            "text/plain": [
              "{'llave': [1, 2, 3, 4, 5, 200]}"
            ]
          },
          "metadata": {
            "tags": []
          },
          "execution_count": 12
        }
      ]
    },
    {
      "cell_type": "markdown",
      "metadata": {
        "id": "hjmunftcWBKs",
        "colab_type": "text"
      },
      "source": [
        "Cuando se tiene una URL, basta introducirla al navegador para obtener su información asociada. En Python esto se puede realizar con la librería `requests`. En particular, el método `get` de tal librería, permite efectuar consultas en la API USGS, en efecto, si se analiza la respuesta de:"
      ]
    },
    {
      "cell_type": "code",
      "metadata": {
        "ExecuteTime": {
          "end_time": "2020-04-24T22:32:59.446894Z",
          "start_time": "2020-04-24T22:32:58.776417Z"
        },
        "id": "EeXNtId2WBKs",
        "colab_type": "code",
        "colab": {}
      },
      "source": [
        "resp = requests.get(\n",
        "    'https://earthquake.usgs.gov/fdsnws/event/1/query?format=geojson&starttime=1920-01-01&endtime=1925-01-01&minlatitude=-56.72500008&minlongitude=-80&maxlatitude=-17.49839982&maxlongitude=-66.07534742'\n",
        ")"
      ],
      "execution_count": 0,
      "outputs": []
    },
    {
      "cell_type": "markdown",
      "metadata": {
        "id": "ZblYY2lGWBKv",
        "colab_type": "text"
      },
      "source": [
        "Notamos que dicho objeto posee las siguientes caracteristicas:\n",
        "\n",
        "1. `__enter__` y `__exit__`. \n",
        "2. `json`, el cual retorna el contenido codificado de la respuesta. \n",
        "3. Un atributo `.ok` que retorna `True` si la consulta se responde con exito.\n",
        "\n",
        "Se puede observar el contenido `json` de la respuesta obtenida por medio de:"
      ]
    },
    {
      "cell_type": "code",
      "metadata": {
        "ExecuteTime": {
          "end_time": "2020-04-24T22:32:59.497863Z",
          "start_time": "2020-04-24T22:32:59.449893Z"
        },
        "id": "Py7sJXRTWBKv",
        "colab_type": "code",
        "outputId": "0a28fc7d-bccf-4cd7-8ab8-bb31907f935f",
        "colab": {
          "base_uri": "https://localhost:8080/",
          "height": 1000
        }
      },
      "source": [
        "display(resp.json())\n",
        "resp.close()"
      ],
      "execution_count": 14,
      "outputs": [
        {
          "output_type": "display_data",
          "data": {
            "text/plain": [
              "{'bbox': [-73.182, -38.708, 15, -67.848, -17.734, 70],\n",
              " 'features': [{'geometry': {'coordinates': [-70.755, -28.222, 45],\n",
              "    'type': 'Point'},\n",
              "   'id': 'iscgem910820',\n",
              "   'properties': {'alert': None,\n",
              "    'cdi': None,\n",
              "    'code': '910820',\n",
              "    'detail': 'https://earthquake.usgs.gov/fdsnws/event/1/query?eventid=iscgem910820&format=geojson',\n",
              "    'dmin': None,\n",
              "    'felt': None,\n",
              "    'gap': None,\n",
              "    'ids': ',iscgem910820,',\n",
              "    'mag': 6.7,\n",
              "    'magType': 'mw',\n",
              "    'mmi': 6.892,\n",
              "    'net': 'iscgem',\n",
              "    'nst': None,\n",
              "    'place': 'Atacama, Chile',\n",
              "    'rms': None,\n",
              "    'sig': 691,\n",
              "    'sources': ',iscgem,',\n",
              "    'status': 'automatic',\n",
              "    'time': -1449266702000,\n",
              "    'title': 'M 6.7 - Atacama, Chile',\n",
              "    'tsunami': 0,\n",
              "    'type': 'earthquake',\n",
              "    'types': ',origin,shakemap,',\n",
              "    'tz': None,\n",
              "    'updated': 1585298188991,\n",
              "    'url': 'https://earthquake.usgs.gov/earthquakes/eventpage/iscgem910820'},\n",
              "   'type': 'Feature'},\n",
              "  {'geometry': {'coordinates': [-73.182, -38.708, 35], 'type': 'Point'},\n",
              "   'id': 'iscgem911723',\n",
              "   'properties': {'alert': None,\n",
              "    'cdi': None,\n",
              "    'code': '911723',\n",
              "    'detail': 'https://earthquake.usgs.gov/fdsnws/event/1/query?eventid=iscgem911723&format=geojson',\n",
              "    'dmin': None,\n",
              "    'felt': None,\n",
              "    'gap': None,\n",
              "    'ids': ',iscgem911723,',\n",
              "    'mag': 6.2,\n",
              "    'magType': 'mw',\n",
              "    'mmi': 6.661,\n",
              "    'net': 'iscgem',\n",
              "    'nst': None,\n",
              "    'place': 'Araucania, Chile',\n",
              "    'rms': None,\n",
              "    'sig': 591,\n",
              "    'sources': ',iscgem,',\n",
              "    'status': 'automatic',\n",
              "    'time': -1456469077000,\n",
              "    'title': 'M 6.2 - Araucania, Chile',\n",
              "    'tsunami': 0,\n",
              "    'type': 'earthquake',\n",
              "    'types': ',origin,shakemap,',\n",
              "    'tz': None,\n",
              "    'updated': 1585299176553,\n",
              "    'url': 'https://earthquake.usgs.gov/earthquakes/eventpage/iscgem911723'},\n",
              "   'type': 'Feature'},\n",
              "  {'geometry': {'coordinates': [-71.332, -28.928, 35], 'type': 'Point'},\n",
              "   'id': 'iscgemsup911356',\n",
              "   'properties': {'alert': None,\n",
              "    'cdi': None,\n",
              "    'code': '911356',\n",
              "    'detail': 'https://earthquake.usgs.gov/fdsnws/event/1/query?eventid=iscgemsup911356&format=geojson',\n",
              "    'dmin': None,\n",
              "    'felt': None,\n",
              "    'gap': None,\n",
              "    'ids': ',iscgem911356,iscgemsup911356,',\n",
              "    'mag': 6.5,\n",
              "    'magType': 'mw',\n",
              "    'mmi': 7.626,\n",
              "    'net': 'iscgemsup',\n",
              "    'nst': None,\n",
              "    'place': 'Atacama, Chile',\n",
              "    'rms': None,\n",
              "    'sig': 650,\n",
              "    'sources': ',is,iscgemsup,',\n",
              "    'status': 'automatic',\n",
              "    'time': -1472520790000,\n",
              "    'title': 'M 6.5 - Atacama, Chile',\n",
              "    'tsunami': 0,\n",
              "    'type': 'earthquake',\n",
              "    'types': ',origin,shakemap,',\n",
              "    'tz': None,\n",
              "    'updated': 1585304000949,\n",
              "    'url': 'https://earthquake.usgs.gov/earthquakes/eventpage/iscgemsup911356'},\n",
              "   'type': 'Feature'},\n",
              "  {'geometry': {'coordinates': [-72.489, -30.333, 15], 'type': 'Point'},\n",
              "   'id': 'iscgem912083',\n",
              "   'properties': {'alert': None,\n",
              "    'cdi': None,\n",
              "    'code': '912083',\n",
              "    'detail': 'https://earthquake.usgs.gov/fdsnws/event/1/query?eventid=iscgem912083&format=geojson',\n",
              "    'dmin': None,\n",
              "    'felt': None,\n",
              "    'gap': None,\n",
              "    'ids': ',iscgem912083,',\n",
              "    'mag': 6.7,\n",
              "    'magType': 'mw',\n",
              "    'mmi': 5.217,\n",
              "    'net': 'iscgem',\n",
              "    'nst': None,\n",
              "    'place': 'offshore Coquimbo, Chile',\n",
              "    'rms': None,\n",
              "    'sig': 691,\n",
              "    'sources': ',iscgem,',\n",
              "    'status': 'automatic',\n",
              "    'time': -1487077027000,\n",
              "    'title': 'M 6.7 - offshore Coquimbo, Chile',\n",
              "    'tsunami': 0,\n",
              "    'type': 'earthquake',\n",
              "    'types': ',origin,shakemap,',\n",
              "    'tz': None,\n",
              "    'updated': 1585299694038,\n",
              "    'url': 'https://earthquake.usgs.gov/earthquakes/eventpage/iscgem912083'},\n",
              "   'type': 'Feature'},\n",
              "  {'geometry': {'coordinates': [-70.58, -28.389, 35], 'type': 'Point'},\n",
              "   'id': 'iscgem912063',\n",
              "   'properties': {'alert': None,\n",
              "    'cdi': None,\n",
              "    'code': '912063',\n",
              "    'detail': 'https://earthquake.usgs.gov/fdsnws/event/1/query?eventid=iscgem912063&format=geojson',\n",
              "    'dmin': None,\n",
              "    'felt': None,\n",
              "    'gap': None,\n",
              "    'ids': ',iscgem912063,',\n",
              "    'mag': 6.6,\n",
              "    'magType': 'mw',\n",
              "    'mmi': 7.086,\n",
              "    'net': 'iscgem',\n",
              "    'nst': None,\n",
              "    'place': 'Atacama, Chile',\n",
              "    'rms': None,\n",
              "    'sig': 670,\n",
              "    'sources': ',iscgem,',\n",
              "    'status': 'automatic',\n",
              "    'time': -1487569829000,\n",
              "    'title': 'M 6.6 - Atacama, Chile',\n",
              "    'tsunami': 0,\n",
              "    'type': 'earthquake',\n",
              "    'types': ',origin,shakemap,',\n",
              "    'tz': None,\n",
              "    'updated': 1585299672464,\n",
              "    'url': 'https://earthquake.usgs.gov/earthquakes/eventpage/iscgem912063'},\n",
              "   'type': 'Feature'},\n",
              "  {'geometry': {'coordinates': [-69.852, -28.293, 70], 'type': 'Point'},\n",
              "   'id': 'official19221111043251_30',\n",
              "   'properties': {'alert': None,\n",
              "    'cdi': None,\n",
              "    'code': '19221111043251_30',\n",
              "    'detail': 'https://earthquake.usgs.gov/fdsnws/event/1/query?eventid=official19221111043251_30&format=geojson',\n",
              "    'dmin': None,\n",
              "    'felt': None,\n",
              "    'gap': None,\n",
              "    'ids': ',iscgem912062,official19221111043251_30,',\n",
              "    'mag': 8.5,\n",
              "    'magType': 'mw',\n",
              "    'mmi': 8.032,\n",
              "    'net': 'official',\n",
              "    'nst': None,\n",
              "    'place': 'Atacama, Chile',\n",
              "    'rms': None,\n",
              "    'sig': 1112,\n",
              "    'sources': ',iscgem,official,',\n",
              "    'status': 'automatic',\n",
              "    'time': -1487618829000,\n",
              "    'title': 'M 8.5 - Atacama, Chile',\n",
              "    'tsunami': 0,\n",
              "    'type': 'earthquake',\n",
              "    'types': ',general-header,impact-text,origin,shakemap,trump-origin,',\n",
              "    'tz': None,\n",
              "    'updated': 1585305365782,\n",
              "    'url': 'https://earthquake.usgs.gov/earthquakes/eventpage/official19221111043251_30'},\n",
              "   'type': 'Feature'},\n",
              "  {'geometry': {'coordinates': [-71.96, -28.365, 25], 'type': 'Point'},\n",
              "   'id': 'iscgem912057',\n",
              "   'properties': {'alert': None,\n",
              "    'cdi': None,\n",
              "    'code': '912057',\n",
              "    'detail': 'https://earthquake.usgs.gov/fdsnws/event/1/query?eventid=iscgem912057&format=geojson',\n",
              "    'dmin': None,\n",
              "    'felt': None,\n",
              "    'gap': None,\n",
              "    'ids': ',iscgem912057,',\n",
              "    'mag': 7,\n",
              "    'magType': 'mw',\n",
              "    'mmi': 5.876,\n",
              "    'net': 'iscgem',\n",
              "    'nst': None,\n",
              "    'place': 'offshore Atacama, Chile',\n",
              "    'rms': None,\n",
              "    'sig': 754,\n",
              "    'sources': ',iscgem,',\n",
              "    'status': 'automatic',\n",
              "    'time': -1487897983000,\n",
              "    'title': 'M 7.0 - offshore Atacama, Chile',\n",
              "    'tsunami': 0,\n",
              "    'type': 'earthquake',\n",
              "    'types': ',origin,shakemap,',\n",
              "    'tz': None,\n",
              "    'updated': 1585299651703,\n",
              "    'url': 'https://earthquake.usgs.gov/earthquakes/eventpage/iscgem912057'},\n",
              "   'type': 'Feature'},\n",
              "  {'geometry': {'coordinates': [-72.743, -17.734, 15], 'type': 'Point'},\n",
              "   'id': 'iscgem911793',\n",
              "   'properties': {'alert': None,\n",
              "    'cdi': None,\n",
              "    'code': '911793',\n",
              "    'detail': 'https://earthquake.usgs.gov/fdsnws/event/1/query?eventid=iscgem911793&format=geojson',\n",
              "    'dmin': None,\n",
              "    'felt': None,\n",
              "    'gap': None,\n",
              "    'ids': ',iscgem911793,',\n",
              "    'mag': 6.8,\n",
              "    'magType': 'mw',\n",
              "    'mmi': 5.022,\n",
              "    'net': 'iscgem',\n",
              "    'nst': None,\n",
              "    'place': 'near the coast of southern Peru',\n",
              "    'rms': None,\n",
              "    'sig': 711,\n",
              "    'sources': ',iscgem,',\n",
              "    'status': 'automatic',\n",
              "    'time': -1514281735000,\n",
              "    'title': 'M 6.8 - near the coast of southern Peru',\n",
              "    'tsunami': 0,\n",
              "    'type': 'earthquake',\n",
              "    'types': ',origin,shakemap,',\n",
              "    'tz': None,\n",
              "    'updated': 1585299241837,\n",
              "    'url': 'https://earthquake.usgs.gov/earthquakes/eventpage/iscgem911793'},\n",
              "   'type': 'Feature'},\n",
              "  {'geometry': {'coordinates': [-70.256, -37.723, 15], 'type': 'Point'},\n",
              "   'id': 'iscgem912683',\n",
              "   'properties': {'alert': None,\n",
              "    'cdi': None,\n",
              "    'code': '912683',\n",
              "    'detail': 'https://earthquake.usgs.gov/fdsnws/event/1/query?eventid=iscgem912683&format=geojson',\n",
              "    'dmin': None,\n",
              "    'felt': None,\n",
              "    'gap': None,\n",
              "    'ids': ',iscgem912683,',\n",
              "    'mag': 7.3,\n",
              "    'magType': 'mw',\n",
              "    'mmi': 6.813,\n",
              "    'net': 'iscgem',\n",
              "    'nst': None,\n",
              "    'place': 'Neuquen, Argentina',\n",
              "    'rms': None,\n",
              "    'sig': 820,\n",
              "    'sources': ',iscgem,',\n",
              "    'status': 'automatic',\n",
              "    'time': -1548185633000,\n",
              "    'title': 'M 7.3 - Neuquen, Argentina',\n",
              "    'tsunami': 0,\n",
              "    'type': 'earthquake',\n",
              "    'types': ',origin,shakemap,',\n",
              "    'tz': None,\n",
              "    'updated': 1585300289292,\n",
              "    'url': 'https://earthquake.usgs.gov/earthquakes/eventpage/iscgem912683'},\n",
              "   'type': 'Feature'},\n",
              "  {'geometry': {'coordinates': [-73.017, -38.063, 15], 'type': 'Point'},\n",
              "   'id': 'iscgem16958437',\n",
              "   'properties': {'alert': None,\n",
              "    'cdi': None,\n",
              "    'code': '16958437',\n",
              "    'detail': 'https://earthquake.usgs.gov/fdsnws/event/1/query?eventid=iscgem16958437&format=geojson',\n",
              "    'dmin': None,\n",
              "    'felt': None,\n",
              "    'gap': None,\n",
              "    'ids': ',iscgem16958437,',\n",
              "    'mag': 6.9,\n",
              "    'magType': 'mw',\n",
              "    'mmi': 7.89,\n",
              "    'net': 'iscgem',\n",
              "    'nst': None,\n",
              "    'place': 'Araucania, Chile',\n",
              "    'rms': None,\n",
              "    'sig': 732,\n",
              "    'sources': ',iscgem,',\n",
              "    'status': 'automatic',\n",
              "    'time': -1557819859000,\n",
              "    'title': 'M 6.9 - Araucania, Chile',\n",
              "    'tsunami': 0,\n",
              "    'type': 'earthquake',\n",
              "    'types': ',origin,shakemap,',\n",
              "    'tz': None,\n",
              "    'updated': 1585244731188,\n",
              "    'url': 'https://earthquake.usgs.gov/earthquakes/eventpage/iscgem16958437'},\n",
              "   'type': 'Feature'},\n",
              "  {'geometry': {'coordinates': [-67.848, -27.398, 15], 'type': 'Point'},\n",
              "   'id': 'iscgem912573',\n",
              "   'properties': {'alert': None,\n",
              "    'cdi': None,\n",
              "    'code': '912573',\n",
              "    'detail': 'https://earthquake.usgs.gov/fdsnws/event/1/query?eventid=iscgem912573&format=geojson',\n",
              "    'dmin': None,\n",
              "    'felt': None,\n",
              "    'gap': None,\n",
              "    'ids': ',iscgem912573,',\n",
              "    'mag': 6.9,\n",
              "    'magType': 'mw',\n",
              "    'mmi': 6.463,\n",
              "    'net': 'iscgem',\n",
              "    'nst': None,\n",
              "    'place': 'Catamarca, Argentina',\n",
              "    'rms': None,\n",
              "    'sig': 732,\n",
              "    'sources': ',iscgem,',\n",
              "    'status': 'automatic',\n",
              "    'time': -1559275359000,\n",
              "    'title': 'M 6.9 - Catamarca, Argentina',\n",
              "    'tsunami': 0,\n",
              "    'type': 'earthquake',\n",
              "    'types': ',origin,shakemap,',\n",
              "    'tz': None,\n",
              "    'updated': 1585300222198,\n",
              "    'url': 'https://earthquake.usgs.gov/earthquakes/eventpage/iscgem912573'},\n",
              "   'type': 'Feature'}],\n",
              " 'metadata': {'api': '1.8.1',\n",
              "  'count': 11,\n",
              "  'generated': 1587772704000,\n",
              "  'status': 200,\n",
              "  'title': 'USGS Earthquakes',\n",
              "  'url': 'https://earthquake.usgs.gov/fdsnws/event/1/query?format=geojson&starttime=1920-01-01&endtime=1925-01-01&minlatitude=-56.72500008&minlongitude=-80&maxlatitude=-17.49839982&maxlongitude=-66.07534742'},\n",
              " 'type': 'FeatureCollection'}"
            ]
          },
          "metadata": {
            "tags": []
          }
        }
      ]
    },
    {
      "cell_type": "markdown",
      "metadata": {
        "id": "P73D8Ig4WBKy",
        "colab_type": "text"
      },
      "source": [
        "Aqui, se aprecia que la respuesta es un `dict` que contiene diferentes pares de (llaves, valor) de tipo (`str`, `obj`) donde`obj` puede ser `dict`, `list`, `str`, `int`, `float`, `NoneType`, etc..."
      ]
    },
    {
      "cell_type": "markdown",
      "metadata": {
        "id": "AQDbXsCdWBKz",
        "colab_type": "text"
      },
      "source": [
        "Para esta pregunta, nos centraremos en la llave `'features'`, que contiene una lista con elementos de tipo `dict` con la información recolectada. \n",
        "\n",
        "### Pregunta 5\n",
        "\n",
        "Las siguientes funciones lambda retornan los atributos de interés, observe que está en presencia de un diccionario de funciones"
      ]
    },
    {
      "cell_type": "code",
      "metadata": {
        "ExecuteTime": {
          "end_time": "2020-04-24T22:32:59.600798Z",
          "start_time": "2020-04-24T22:32:59.500863Z"
        },
        "id": "Ot_Ztz7JWBKz",
        "colab_type": "code",
        "colab": {}
      },
      "source": [
        "funciones_dict = {\n",
        "    'id': lambda x: x['id'],\n",
        "    'lugar': lambda x: x['properties']['place'],\n",
        "    'timestamp': lambda x: datetime.fromtimestamp(x['properties']['time'] // 1000),\n",
        "    'magnitud': lambda x: x['properties']['mag'],\n",
        "    'longitud': lambda x: x['geometry']['coordinates'][0],\n",
        "    'latitud': lambda x: x['geometry']['coordinates'][1]\n",
        "}"
      ],
      "execution_count": 0,
      "outputs": []
    },
    {
      "cell_type": "markdown",
      "metadata": {
        "id": "f83UugIFWBK4",
        "colab_type": "text"
      },
      "source": [
        "Así para obtener los atributos de interés del primer elemento asociado a `'features'` (primera observación) se puede ejecutar:"
      ]
    },
    {
      "cell_type": "code",
      "metadata": {
        "ExecuteTime": {
          "end_time": "2020-04-24T22:32:59.881626Z",
          "start_time": "2020-04-24T22:32:59.604797Z"
        },
        "id": "tVIBBE8CWBK4",
        "colab_type": "code",
        "outputId": "095320ca-c577-410d-bb9a-6b7f1418bfc4",
        "colab": {
          "base_uri": "https://localhost:8080/",
          "height": 119
        }
      },
      "source": [
        "{k: func(resp.json()['features'][0]) for k, func in funciones_dict.items()}"
      ],
      "execution_count": 16,
      "outputs": [
        {
          "output_type": "execute_result",
          "data": {
            "text/plain": [
              "{'id': 'iscgem910820',\n",
              " 'latitud': -28.222,\n",
              " 'longitud': -70.755,\n",
              " 'lugar': 'Atacama, Chile',\n",
              " 'magnitud': 6.7,\n",
              " 'timestamp': datetime.datetime(1924, 1, 29, 1, 54, 58)}"
            ]
          },
          "metadata": {
            "tags": []
          },
          "execution_count": 16
        }
      ]
    },
    {
      "cell_type": "markdown",
      "metadata": {
        "id": "d1ID26dKWBK7",
        "colab_type": "text"
      },
      "source": [
        "Recolecte los datos de la API haciendo uso de `funciones_dict`. En el siguiente procedimiento complete las 3 lineas indicadas con:\n",
        "```python\n",
        "    _ _ _ _ # Completar {n}\n",
        "\n",
        "```\n",
        "Para esto:\n",
        "1. En **Completar 1** haga uso de la función `map` y una conversión de tipo de dato a `list`.\n",
        "2. En **Completar 2** y **Completar 3**, opere sobre `observaciones_dict` y obtenga un objeto `DictDeListas` con la concatenación de todos los atributos de interés, para cada las consulta realizada a la API. *Hint* : recuerde la razón por la que definimos `DictDeListas`.\n",
        "\n",
        "**Obs**: La cantidad de observaciones recolectadas debería ser mayor a  63.500. Puede acceder a este dato por medio de `len(observaciones_dict['id'])`."
      ]
    },
    {
      "cell_type": "code",
      "metadata": {
        "ExecuteTime": {
          "end_time": "2020-04-24T22:32:59.885623Z",
          "start_time": "2020-04-24T22:32:56.200Z"
        },
        "id": "MFLWmqrCWBK8",
        "colab_type": "code",
        "outputId": "bc31803c-253a-4b5d-baf2-0a277d3b0011",
        "colab": {
          "base_uri": "https://localhost:8080/",
          "height": 697
        }
      },
      "source": [
        "# Respeusta P5\n",
        "\n",
        "# Inicializar el contenedor de los datos recolectados\n",
        "observaciones_dict = DictDeListas()\n",
        "\n",
        "# Generar las url de las consultas a la API\n",
        "for consulta_str in GeneradorConsulta():\n",
        "    \n",
        "    # Abre un context manager\n",
        "    with requests.get(consulta_str) as respuesta:\n",
        "        \n",
        "        # Verifica con el atributo .ok si se recibe la informacion\n",
        "        assert respuesta.ok, 'Respuesta erronea'\n",
        "    \n",
        "        # Almacena las features de interes\n",
        "        respuesta_dict = respuesta.json()\n",
        "        respuesta_features_lista = respuesta_dict['features']\n",
        "\n",
        "        # Reporta numero de resultados obtenidos en la iteracion\n",
        "        print('Se obtuvieron', len(respuesta_dict[\"features\"]), 'observaciones \\n')\n",
        "        \n",
        "        # Inicializa un contenedor de resultados\n",
        "        iter_dict = DictDeListas()\n",
        "\n",
        "        for k, func in funciones_dict.items():\n",
        "\n",
        "            iter_dict[k] = list(map(func,respuesta_features_lista)) # Completar 1\n",
        "        \n",
        "        # Verifica si observaciones_dict esta vacio\n",
        "        if observaciones_dict:\n",
        "\n",
        "            # Colapsamos los resultados\n",
        "            observaciones_dict.extiende_listas(iter_dict)\n",
        "\n",
        "        else:\n",
        "            # Si es vacio, lo creamos\n",
        "            observaciones_dict = iter_dict # Completar 3\n",
        "\n",
        "        sleep(5) # espera 5 segundos antes de realizar la próxima consulta"
      ],
      "execution_count": 17,
      "outputs": [
        {
          "output_type": "stream",
          "text": [
            "Se obtuvieron 11 observaciones \n",
            "\n",
            "Se obtuvieron 10 observaciones \n",
            "\n",
            "Se obtuvieron 6 observaciones \n",
            "\n",
            "Se obtuvieron 5 observaciones \n",
            "\n",
            "Se obtuvieron 10 observaciones \n",
            "\n",
            "Se obtuvieron 5 observaciones \n",
            "\n",
            "Se obtuvieron 18 observaciones \n",
            "\n",
            "Se obtuvieron 24 observaciones \n",
            "\n",
            "Se obtuvieron 75 observaciones \n",
            "\n",
            "Se obtuvieron 49 observaciones \n",
            "\n",
            "Se obtuvieron 610 observaciones \n",
            "\n",
            "Se obtuvieron 1605 observaciones \n",
            "\n",
            "Se obtuvieron 3604 observaciones \n",
            "\n",
            "Se obtuvieron 5553 observaciones \n",
            "\n",
            "Se obtuvieron 7810 observaciones \n",
            "\n",
            "Se obtuvieron 10502 observaciones \n",
            "\n",
            "Se obtuvieron 13248 observaciones \n",
            "\n",
            "Se obtuvieron 9509 observaciones \n",
            "\n",
            "Se obtuvieron 5553 observaciones \n",
            "\n",
            "Se obtuvieron 5356 observaciones \n",
            "\n"
          ],
          "name": "stdout"
        }
      ]
    },
    {
      "cell_type": "markdown",
      "metadata": {
        "id": "y3i0cvbxWBK-",
        "colab_type": "text"
      },
      "source": [
        "Finalmente es posible proceder al análisis de los datos. Para ello se hará uso de  las librerías `numpy` y `scipy`. El primer paso será transformar las listas en numpy array usando los siguientes tipos de datos:"
      ]
    },
    {
      "cell_type": "code",
      "metadata": {
        "ExecuteTime": {
          "end_time": "2020-04-24T22:32:59.888622Z",
          "start_time": "2020-04-24T22:32:56.208Z"
        },
        "id": "KSYAfqwVWBK_",
        "colab_type": "code",
        "colab": {
          "base_uri": "https://localhost:8080/",
          "height": 119
        },
        "outputId": "b2332b9e-0d8d-49e6-e64d-d3e14cdf2051"
      },
      "source": [
        "dtype_dict = {\n",
        "    'id': np.dtype('<U64'),\n",
        "    'lugar': np.dtype('<U64'),\n",
        "    'timestamp': np.dtype('<M8[ns]'),\n",
        "    'magnitud': np.dtype(float),\n",
        "    'longitud': np.dtype(float),\n",
        "    'latitud': np.dtype(float)\n",
        "}\n",
        "dtype_dict"
      ],
      "execution_count": 18,
      "outputs": [
        {
          "output_type": "execute_result",
          "data": {
            "text/plain": [
              "{'id': dtype('<U64'),\n",
              " 'latitud': dtype('float64'),\n",
              " 'longitud': dtype('float64'),\n",
              " 'lugar': dtype('<U64'),\n",
              " 'magnitud': dtype('float64'),\n",
              " 'timestamp': dtype('<M8[ns]')}"
            ]
          },
          "metadata": {
            "tags": []
          },
          "execution_count": 18
        }
      ]
    },
    {
      "cell_type": "markdown",
      "metadata": {
        "id": "BoqEcM-2WBLB",
        "colab_type": "text"
      },
      "source": [
        "### Pregunta 6\n",
        "\n",
        "Transforme las listas de los atributos de interés contenidas en `observaciones_dict` en un `numpy.ndarray` de `dtype` específico.  Para ello, utilice `dtype_dict`, a modo de ejemplo, para los datos contenidos en `observaciones_dict['magnitud']` se debe transformar según  `dtype_dict['magnitud']` en un `numpy.ndarray` de `dtype` `np.dtype(float)`. \n",
        "1. Utilice comprensión de diccionarios y el método `.items()` para transformar los datos. Guarde el resultado en la variable `observaciones_np_dict`. \n",
        "2. Compruebe que el evento más antiguo contenido en `observaciones_np_dict` corresponde al 3 de agosto de 1920."
      ]
    },
    {
      "cell_type": "code",
      "metadata": {
        "ExecuteTime": {
          "end_time": "2020-04-24T22:32:59.890620Z",
          "start_time": "2020-04-24T22:32:56.216Z"
        },
        "id": "4KmdWo0qWBLB",
        "colab_type": "code",
        "colab": {
          "base_uri": "https://localhost:8080/",
          "height": 221
        },
        "outputId": "edc33e34-9b36-4929-efa0-78f368818f15"
      },
      "source": [
        "# Respuesta P6 1\n",
        "\n",
        "observaciones_np_dict = {k:np.array(vec, dtype =dtype_dict[k] )  for k,vec in observaciones_dict.items()}\n",
        "observaciones_np_dict"
      ],
      "execution_count": 19,
      "outputs": [
        {
          "output_type": "execute_result",
          "data": {
            "text/plain": [
              "{'id': array(['iscgem910820', 'iscgem911723', 'iscgemsup911356', ...,\n",
              "        'usc000tb7u', 'usc000tb79', 'usc000tb6x'], dtype='<U64'),\n",
              " 'latitud': array([-28.222 , -38.708 , -28.928 , ..., -31.901 , -19.9448, -31.072 ]),\n",
              " 'longitud': array([-70.755 , -73.182 , -71.332 , ..., -69.87  , -70.9885, -71.347 ]),\n",
              " 'lugar': array(['Atacama, Chile', 'Araucania, Chile', 'Atacama, Chile', ...,\n",
              "        '76km SW of Calingasta, Argentina', '93km WNW of Iquique, Chile',\n",
              "        '54km SSW of Ovalle, Chile'], dtype='<U64'),\n",
              " 'magnitud': array([6.7, 6.2, 6.5, ..., 4.1, 4.2, 4.5]),\n",
              " 'timestamp': array(['1924-01-29T01:54:58.000000000', '1923-11-06T17:15:23.000000000',\n",
              "        '1923-05-04T22:26:50.000000000', ...,\n",
              "        '2015-01-02T02:29:36.000000000', '2015-01-01T23:39:47.000000000',\n",
              "        '2015-01-01T21:08:22.000000000'], dtype='datetime64[ns]')}"
            ]
          },
          "metadata": {
            "tags": []
          },
          "execution_count": 19
        }
      ]
    },
    {
      "cell_type": "code",
      "metadata": {
        "ExecuteTime": {
          "end_time": "2020-04-24T22:32:59.893618Z",
          "start_time": "2020-04-24T22:32:56.223Z"
        },
        "id": "yNe5yt_SWBLE",
        "colab_type": "code",
        "colab": {
          "base_uri": "https://localhost:8080/",
          "height": 34
        },
        "outputId": "5b3a9205-2d6f-4cfe-cc9c-913b82a30372"
      },
      "source": [
        "# Respuesta P6 2\n",
        "\n",
        "# Buscamos el menor valor\n",
        "valor = np.where(observaciones_np_dict['timestamp'] == np.amin(observaciones_np_dict['timestamp'])) \n",
        "\n",
        "# Evaluamos\n",
        "observaciones_np_dict['timestamp'][valor]"
      ],
      "execution_count": 20,
      "outputs": [
        {
          "output_type": "execute_result",
          "data": {
            "text/plain": [
              "array(['1920-08-03T19:57:21.000000000'], dtype='datetime64[ns]')"
            ]
          },
          "metadata": {
            "tags": []
          },
          "execution_count": 20
        }
      ]
    },
    {
      "cell_type": "markdown",
      "metadata": {
        "id": "3-nzhjvZWBLG",
        "colab_type": "text"
      },
      "source": [
        "### Pregunta 7 (opcional)"
      ]
    },
    {
      "cell_type": "markdown",
      "metadata": {
        "id": "VitDeBVpWBLH",
        "colab_type": "text"
      },
      "source": [
        "El objetivo del ejercicio es obtener estadísticas descriptivas de los movimientos telúricos ocurridos en Chile en los últimos 100 años. Para mostrar dichas estadísticas definiremos la función `muestra_estadisticas_descriptivas` que toma como argumento un  `numpy.ndarray` y muestra en pantalla las siguientes estadísticas según la clase de los elementos contenidos en dicho arreglo:\n",
        "- `'np.float64'` y `numpy.datetime64` (`datetime` en nanosegundos): número de observaciones, promedio, mediana, primer cuartil, tercer cuartil, minimo y maximo.\n",
        "- `'<U64'` (`str` de largo máximo 64): número de observaciones y moda.\n",
        "\n",
        "Como el comportamiento debe variar según el tipo de dato del argumento, sería conveniente usar el decorador `singledispatch`. Sin embargo al verificar:\n",
        "```python\n",
        ">>>[val.__class__ for val in observaciones_np_dict.values()]\n",
        "[numpy.ndarray,\n",
        " numpy.ndarray,\n",
        " numpy.ndarray,\n",
        " numpy.ndarray,\n",
        " numpy.ndarray,\n",
        " numpy.ndarray]\n",
        "```\n",
        "observamos que el todos los arrays contenidos en `observaciones_np_dict` pertenecen a la misma clase, `numpy.ndarray`. Por lo tanto es necesario volver a modificar el comportamiento de `singledispatch` para que sea capaz de distinguir entre el `dtype` del array que recibe como argumento."
      ]
    },
    {
      "cell_type": "markdown",
      "metadata": {
        "id": "GI-Kh0chWBLH",
        "colab_type": "text"
      },
      "source": [
        "1. Complete el código de la siguiente función para extender la funcionalidad de `singledispatch` para distinguir `dtype` del `numpy.ndarray` usado como argumento.  \n",
        "\n",
        "*Hint* : Revise el código de `singledispatchmeth`, [esta página](https://stackoverflow.com/questions/24601722/how-can-i-use-functools-singledispatch-with-instance-methods) puede ser de ayuda."
      ]
    },
    {
      "cell_type": "code",
      "metadata": {
        "ExecuteTime": {
          "end_time": "2020-04-24T22:32:59.897616Z",
          "start_time": "2020-04-24T22:32:56.232Z"
        },
        "id": "4WAuuQtaWBLJ",
        "colab_type": "code",
        "colab": {
          "base_uri": "https://localhost:8080/",
          "height": 129
        },
        "outputId": "9984d86c-fe1d-4820-8892-f37b90e9c20b"
      },
      "source": [
        "# Respuesta P7 1\n",
        "def numpydispatch(func):\n",
        "    despachador = singledispatch(func)\n",
        "\n",
        "    def wrapper(*args, **kw):\n",
        "        return despachador.dispatch(_ _ _ _ )(_ _ _ _) # Completar\n",
        "    \n",
        "    wrapper.register = despachador.register\n",
        "    update_wrapper(wrapper, func)\n",
        "    return wrapper"
      ],
      "execution_count": 21,
      "outputs": [
        {
          "output_type": "error",
          "ename": "SyntaxError",
          "evalue": "ignored",
          "traceback": [
            "\u001b[0;36m  File \u001b[0;32m\"<ipython-input-21-67c878b2c537>\"\u001b[0;36m, line \u001b[0;32m5\u001b[0m\n\u001b[0;31m    return despachador.dispatch(_ _ _ _ )(_ _ _ _) # Completar\u001b[0m\n\u001b[0m                                  ^\u001b[0m\n\u001b[0;31mSyntaxError\u001b[0m\u001b[0;31m:\u001b[0m invalid syntax\n"
          ]
        }
      ]
    },
    {
      "cell_type": "markdown",
      "metadata": {
        "id": "Wdq1Yk0nWBLM",
        "colab_type": "text"
      },
      "source": [
        "2. Para concluir complete las funciones de `muestra_estadisticas_descriptivas` asociadas a arreglos que contienen elementos de clase `np.float64` y `np.str_`. Estas deben mostrar en pantalla:\n",
        "    - `'np.float64'`: número de observaciones, promedio, mediana, primer cuartil, tercer cuartil, minimo y maximo.\n",
        "    - `'<U64'` (`str` de largo máximo 64): número de observaciones y moda. \n",
        "    \n",
        "   *Hint*: tenga especial cuidado con los valores faltantes `np.nan` que pueden presentarse en los arreglos con elementos de clase `'np.float64'`. Puede ser útil usar las funciones de `numpy` que permiten el manejo de valores faltantes. Por ejemplo `np.nanmean` como análoga a `np.mean`. \n",
        "    \n",
        "   **Obs**: se provee la función asociada a los array con elementos de la clase `np.datetime64` pues el método `view` está fuera del alcance del ejercicio.\n",
        "   \n",
        "   **Obs**: la notación `f\"texto{var}\"` es equivalente a `\"texto {}\".format(var)`. El cuál es un método diseñado para insertar valores dinámicos (variables del entorno) sobre un string. "
      ]
    },
    {
      "cell_type": "code",
      "metadata": {
        "ExecuteTime": {
          "end_time": "2020-04-24T22:32:59.899614Z",
          "start_time": "2020-04-24T22:32:56.245Z"
        },
        "id": "HFFFWznjWBLN",
        "colab_type": "code",
        "colab": {}
      },
      "source": [
        "# Respuesta P7 2\n",
        "@numpydispatch\n",
        "def muestra_estadisticas_descriptivas(array):\n",
        "    '''Define el comportamiento para objetos en general fuera de registry'''\n",
        "    print(f\"numero de observaciones: {len(array):,}\")\n",
        "        \n",
        "@muestra_estadisticas_descriptivas.register(np.datetime64)\n",
        "def _(array):\n",
        "    '''Define el comportamiento para los objetos '''\n",
        "    \n",
        "    # transforma array para que puedan calcularse las estadisticas deseadas\n",
        "    trans_array = observaciones_arr_dict['timestamp'].view('i8')\n",
        "    \n",
        "    # inicializa el contenedor de los str a mostrar en pantalla\n",
        "    lista_str = []\n",
        "    \n",
        "    # genera los str a mostrar en pantalla\n",
        "    lista_str.append(f\"numero de observaciones: {len(array):,}\")\n",
        "    lista_str.append(\n",
        "        f\"media: {trans_array.mean().astype('datetime64[ns]')}\"\n",
        "    )\n",
        "    lista_str.append(\n",
        "        f\"mediana: {np.median(trans_array).astype('datetime64[ns]')}\"\n",
        "    )\n",
        "    lista_str.append(\n",
        "        f\"primer cuartil: {np.quantile(trans_array, .25).astype('datetime64[ns]')}\"\n",
        "    )\n",
        "    lista_str.append(\n",
        "        f\"tercer cuartil: {np.quantile(trans_array, .75).astype('datetime64[ns]')}\"\n",
        "    )\n",
        "    lista_str.append(\n",
        "        f\"minimo: {trans_array.min().astype('datetime64[ns]')}\"\n",
        "    )\n",
        "    lista_str.append(\n",
        "        f\"maximo: {trans_array.max().astype('datetime64[ns]')}\"\n",
        "    )\n",
        "    \n",
        "    # muestra los elementos de la lista separados por un salto de linea\n",
        "    print('\\n'.join(lista_str))\n",
        "    \n",
        "@muestra_estadisticas_descriptivas.register(np.float64)\n",
        "def _(array):\n",
        "    # Completar\n",
        "    \n",
        "    \n",
        "@muestra_estadisticas_descriptivas.register(np.str_)\n",
        "def _(array):\n",
        "    # Completar"
      ],
      "execution_count": 0,
      "outputs": []
    }
  ]
}